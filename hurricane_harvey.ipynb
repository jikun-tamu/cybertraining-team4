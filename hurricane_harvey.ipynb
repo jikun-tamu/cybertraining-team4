{
 "cells": [
  {
   "cell_type": "code",
   "execution_count": null,
   "id": "017a1804",
   "metadata": {},
   "outputs": [
    {
     "name": "stdout",
     "output_type": "stream",
     "text": [
      "Done copying hurricane_harvey files.\n"
     ]
    }
   ],
   "source": [
    "import shutil\n",
    "from pathlib import Path\n",
    "\n",
    "src = Path(\"/media/gisense/xihan/250812_CyberTraining_Team4/labels/hurricane-harvey_00000162_pre_disaster.json\")\n",
    "dst_dir = Path(\"/media/gisense/xihan/250812_CyberTraining_Team4/hurrican_harvery/labels\")\n",
    "dst_dir.mkdir(parents=True, exist_ok=True)\n",
    "shutil.copy2(src, dst_dir / src.name)\n",
    "print(f\"Copied {src.name} to {dst_dir}\")"
   ]
  },
  {
   "cell_type": "code",
   "execution_count": null,
   "id": "3549994a",
   "metadata": {},
   "outputs": [],
   "source": []
  }
 ],
 "metadata": {
  "kernelspec": {
   "display_name": "Python (gisenv)",
   "language": "python",
   "name": "gisenv"
  },
  "language_info": {
   "codemirror_mode": {
    "name": "ipython",
    "version": 3
   },
   "file_extension": ".py",
   "mimetype": "text/x-python",
   "name": "python",
   "nbconvert_exporter": "python",
   "pygments_lexer": "ipython3",
   "version": "3.10.16"
  }
 },
 "nbformat": 4,
 "nbformat_minor": 5
}
